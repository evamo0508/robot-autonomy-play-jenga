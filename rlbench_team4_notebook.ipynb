{
 "cells": [
  {
   "cell_type": "code",
   "execution_count": 1,
   "metadata": {
    "scrolled": true
   },
   "outputs": [
    {
     "name": "stderr",
     "output_type": "stream",
     "text": [
      "/home/hcl/.local/lib/python3.6/site-packages/quaternion/numba_wrapper.py:20: UserWarning: \n",
      "\n",
      "!!!!!!!!!!!!!!!!!!!!!!!!!!!!!!!!!!!!!!!!!!!!!!!!!!!!!\n",
      "Could not import from numba, which means that some\n",
      "parts of this code may run MUCH more slowly.  You\n",
      "may wish to install numba.\n",
      "!!!!!!!!!!!!!!!!!!!!!!!!!!!!!!!!!!!!!!!!!!!!!!!!!!!!!\n",
      "\n",
      "  warnings.warn(warning_text)\n"
     ]
    }
   ],
   "source": [
    "import numpy as np\n",
    "import scipy as sp\n",
    "from scipy.spatial.transform import Rotation as R\n",
    "from quaternion import from_rotation_matrix, quaternion, as_float_array\n",
    "\n",
    "from rlbench.environment import Environment\n",
    "from rlbench.action_modes import ArmActionMode, ActionMode\n",
    "from rlbench.observation_config import ObservationConfig\n",
    "from rlbench.tasks import *\n",
    "from pyrep.objects.shape import Shape\n",
    "\n",
    "import gym\n",
    "import rlbench.gym\n",
    "from rlzoo.common.env_wrappers import *\n",
    "from rlzoo.common.utils import *\n",
    "from rlzoo.algorithms import *\n",
    "\n",
    "from enum import Enum \n",
    "import time\n",
    "\n",
    "def skew(x):\n",
    "    return np.array([[0, -x[2], x[1]],\n",
    "                    [x[2], 0, -x[0]],\n",
    "                    [-x[1], x[0], 0]])\n",
    "\n",
    "\n",
    "def sample_normal_pose(pos_scale, rot_scale):\n",
    "    '''\n",
    "    Samples a 6D pose from a zero-mean isotropic normal distribution\n",
    "    '''\n",
    "    pos = np.random.normal(scale=pos_scale)\n",
    "        \n",
    "    eps = skew(np.random.normal(scale=rot_scale))\n",
    "    R = sp.linalg.expm(eps)\n",
    "    quat_wxyz = from_rotation_matrix(R)\n",
    "\n",
    "    return pos, quat_wxyz\n",
    "\n",
    "class State(Enum):\n",
    "    RESET = 1\n",
    "    SEARCH_WPTPOKEOUT = 2\n",
    "    SEARCH_WPTPOKEIN = 3\n",
    "    CLEAR = 4\n",
    "    SEARCH_WPTGRASPOUT = 5\n",
    "    SEARCH_WPTGRASPIN = 6\n",
    "    GRASP = 7\n",
    "    PULL = 8\n",
    "    MOVE_UP = 9\n",
    "    SEARCH_PLACEMENT = 10\n",
    "    PLACE = 11\n",
    "    ALIGN_IN = 12\n",
    "    ALIGN_OUT = 13\n",
    "    MOVE_UP2 = 14\n",
    "    HOME = 15\n",
    "\n",
    "class Agent:\n",
    "\n",
    "    def __init__(self, obs, obj_poses, task):\n",
    "        self.state = State.RESET\n",
    "        self.goal = obs.gripper_pose.tolist() # x, y , z, quaternion\n",
    "        self.gripper = [True]\n",
    "        self.cuboidX = 0.2067\n",
    "        self.cuboidY = 0.069\n",
    "        self.cuboidZ = 0.0333\n",
    "        self.wptPokeOut = obj_poses['waypoint2']\n",
    "        self.wptPokeIn =  obj_poses['waypoint1']\n",
    "        self.wptGraspOut = np.zeros(7)\n",
    "        self.wptGraspIn = np.zeros(7)\n",
    "        self.wptPull = []\n",
    "        self.wptAlignout = []\n",
    "        self.visited = []\n",
    "        self.home_goal = self.goal\n",
    "        self.placePose = []\n",
    "        self._jenga = task\n",
    "        self.poke_out = 0.09 # the more, the farther away from block before poking\n",
    "        self.place_amount = 0.06\n",
    "        self.grasp_amount = 0.018  #grasp more into the block when value is large\n",
    "        self.align_out_amount = -0.05  # the dist that the gripper move out before aligning. The more negative, the more it moves out\n",
    "        self.align_in_amount = 0.08     #increases this pushes in more\n",
    "        self.up_amount = 0.001\n",
    "        self.up_amount2 = 0.42\n",
    "        self.knock = False          #whether in knock down mode\n",
    "\n",
    "\n",
    "        #make it die fast\n",
    "        self.poke_out = 10\n",
    "        # self.move_up2 = 10.0\n",
    "        \n",
    "    def act(self, obs, obj_poses):\n",
    "        print(self.state)\n",
    "\n",
    "        if self.state == State.RESET:\n",
    "            self.reset()\n",
    "        elif self.state == State.SEARCH_WPTPOKEOUT:\n",
    "            self.search_wptPokeOut(obs, obj_poses)\n",
    "        elif self.state == State.SEARCH_WPTPOKEIN:\n",
    "            self.search_wptPokeIn(obs, obj_poses)\n",
    "        elif self.state == State.CLEAR:\n",
    "            self.clear(obs, obj_poses)\n",
    "        elif self.state == State.SEARCH_WPTGRASPOUT:\n",
    "            self.search_wptGraspOut(obs, obj_poses)\n",
    "        elif self.state == State.HOME:\n",
    "            self.home(obs)\n",
    "        elif self.state == State.SEARCH_WPTGRASPIN:\n",
    "            self.search_wptGraspIn(obs, obj_poses)\n",
    "        elif self.state == State.GRASP:\n",
    "            self.grasp()\n",
    "        elif self.state == State.PULL:\n",
    "            self.pull(obs, obj_poses)\n",
    "        elif self.state == State.MOVE_UP:\n",
    "            self.move_up(obs, obj_poses)\n",
    "        elif self.state == State.SEARCH_PLACEMENT:\n",
    "            self.search_placement(obs, obj_poses)\n",
    "        elif self.state == State.PLACE:\n",
    "            self.place()\n",
    "        elif self.state == State.ALIGN_IN:\n",
    "            self.align_in()\n",
    "        elif self.state == State.ALIGN_OUT:\n",
    "            self.align_out()\n",
    "        elif self.state == State.MOVE_UP2:\n",
    "            self.move_up2(obs, obj_poses)    \n",
    "\n",
    "        #self.state = self.state + 1 if self.state != State.ALIGN else self.RESET\n",
    "        xmin,xmax = 0, 0.45\n",
    "        ymin,ymax = -0.45, 0.4\n",
    "        zmin,zmax = 0.77,1.7\n",
    "        print (self.goal[:3])\n",
    "        if self.goal[0] < xmin or self.goal[0] > xmax or self.goal[1] < ymin or self.goal[1] > ymax or self.goal[2] < zmin or self.goal[2]> zmax:\n",
    "            print(\"OUT OF BOUNDS!!!!!!!!!!!!!!!!!!!!!!!!!!!!!!!!!!!!!!!!!!!!!!!!!\") \n",
    "            self.knock = True \n",
    "        return self.goal + self.gripper, self.knock\n",
    "\n",
    "        # # print(\"Cuboid1\\n\",obj_poses['Cuboid1'])\n",
    "        # # print (\"obs gripper pose\\n\", obs.gripper_pose)\n",
    "        # print (\"obs gripper pose angle?\\n\",obs.gripper_pose[3:7])\n",
    "        # print(\"waypoint1\\n\",obj_poses['waypoint1'])\n",
    "\n",
    "        # # move xyz position to block\n",
    "        # delta_pos = (obj_poses['waypoint1'][:3]-obs.gripper_pose[:3])\n",
    "        # max_step = 0.5\n",
    "        # min_step = 0.05\n",
    "        # delta_pos[delta_pos > max_step] = max_step\n",
    "        # delta_pos[delta_pos < -max_step] = -max_step\n",
    "        # delta_pos = np.where(np.abs(delta_pos) < min_step, 0, delta_pos)\n",
    "        # delta_pos = delta_pos.tolist()\n",
    "        # print(\"delta_pos\",delta_pos)\n",
    "\n",
    "        # delta_quat = [0, 0, 0, 1] # xyzw\n",
    "\n",
    "        # # # move orientation to block\n",
    "        # # delta_quat = (obj_poses['waypoint1'][3:7]-obs.gripper_pose[3:7])\n",
    "        # # max_step = 0.02\n",
    "        # # min_step = 0.0001\n",
    "        # # delta_quat[delta_quat > max_step] = max_step\n",
    "        # # delta_quat[delta_quat < -max_step] = -max_step\n",
    "        # # delta_quat = np.where(np.abs(delta_quat) < min_step, 0, delta_quat)\n",
    "        # # delta_quat = delta_quat.tolist()\n",
    "        # # print(\"delta_quat\",delta_quat)\n",
    "\n",
    "        \n",
    "        # return delta_pos + delta_quat + gripper_pos\n",
    "    def reset(self):\n",
    "        self.gripper = [True]\n",
    "        self.knock = False\n",
    "         \n",
    "        while True:\n",
    "            cuboidID = np.random.choice(range(5,11))    #dont take bottom level\n",
    "            if cuboidID not in self.visited:\n",
    "                self.visited.append(cuboidID)\n",
    "                break\n",
    "        \n",
    "\n",
    "        if cuboidID == 10:\n",
    "            self.cuboid = 'target_cuboid'\n",
    "        else:\n",
    "            self.cuboid = 'Cuboid' + str(cuboidID)\n",
    "\n",
    "        # test\n",
    "        # self.cuboid = 'target_cuboid'\n",
    "        # self.cuboid = 'Cuboid5'\n",
    "        # self.cuboid = 'Cuboid3'\n",
    "        print(\"Cuboid: \", self.cuboid)\n",
    "\n",
    "        self._jenga._task.register_graspable_objects([Shape(self.cuboid)])\n",
    "\n",
    "        if self.cuboid == \"target_cuboid\":\n",
    "            poke_amount = 0.065      #increase means poke more into the block\n",
    "        else:\n",
    "            poke_amount = 0.045\n",
    "        quat = obj_poses[self.cuboid][3:7]\n",
    "        T = np.zeros((4,4))\n",
    "        T[3, 3] = 1\n",
    "        T[:3, :3] = R.from_quat(quat).as_matrix()\n",
    "        \n",
    "        y90 = from_rotation_matrix(np.array([[0, 0, -1], [0, 1, 0], [1, 0, 0]]))\n",
    "        \n",
    "        self.wptPokeOut[:3] = (T @ np.array([self.cuboidX/2+self.poke_out, 0, 0, 0]).reshape((4,1)))[:3, 0] \\\n",
    "                               + obj_poses[self.cuboid][:3]\n",
    "        self.wptPokeOut[3:7] = as_float_array(y90 * quaternion(quat[0], quat[1], quat[2], quat[3]))\n",
    "\n",
    "        self.wptPokeIn[:3] = (T @ np.array([self.cuboidX/2 - poke_amount, 0, 0, 0]).reshape((4,1)))[:3, 0] \\\n",
    "                               + obj_poses[self.cuboid][:3]\n",
    "        self.wptPokeIn[3:7] = as_float_array(y90 * quaternion(quat[0], quat[1], quat[2], quat[3]))\n",
    "\n",
    "        if self.wptPokeOut[2] < 0.77:\n",
    "            self.knock = True \n",
    "\n",
    "        self.state = State.SEARCH_WPTPOKEOUT\n",
    "        \n",
    "    def search_wptPokeOut(self, obs, obj_poses):\n",
    "        thresh = 0.03\n",
    "        # TODO: quaternion error\n",
    "        if np.linalg.norm(obs.gripper_pose[:3] - self.wptPokeOut[:3]) > thresh:\n",
    "        #if np.linalg.norm(obs.gripper_pose[:3] - obj_poses['waypoint2'][:3]) > thresh:\n",
    "            self.goal = self.wptPokeOut.tolist()\n",
    "            #self.goal = obj_poses['waypoint2'].tolist()\n",
    "        else:\n",
    "            self.state = State.SEARCH_WPTPOKEIN\n",
    "\n",
    "    def search_wptPokeIn(self, obs, obj_poses):    \n",
    "        thresh = 0.03\n",
    "        # TODO: quaternion error\n",
    "        if np.linalg.norm(obs.gripper_pose[:3] - self.wptPokeIn[:3]) > thresh:\n",
    "            self.gripper = [False]\n",
    "            self.goal = self.wptPokeIn.tolist()\n",
    "        else:\n",
    "            self.state = State.CLEAR\n",
    "    \n",
    "    def clear(self, obs, obj_poses):\n",
    "        thresh = 0.05\n",
    "        # TODO: quaternion error\n",
    "        if np.linalg.norm(obs.gripper_pose[:3] - self.wptPokeOut[:3]) > thresh:\n",
    "            self.goal = self.wptPokeOut.tolist()\n",
    "        else:\n",
    "            self.state = State.HOME\n",
    "\n",
    "    def home(self, obs):\n",
    "        thresh = 0.05\n",
    "        clearance = 0.3     #distance above top of block to home\n",
    "        # TODO: quaternion error\n",
    "        if np.linalg.norm(obs.gripper_pose[:3] - np.array(self.home_goal[:3])) > thresh:\n",
    "            # self.goal = self.home_goal\n",
    "            self.goal = self.home_goal\n",
    "            self.goal[0] = np.mean([pose[0] for (i, pose) in obj_poses.items()])\n",
    "            self.goal[1] = np.mean([pose[1] for (i, pose) in obj_poses.items()])\n",
    "            self.goal[2] = np.max([pose[2] for (i, pose) in obj_poses.items()]) + clearance \n",
    "        else:\n",
    "            #regrab block positions\n",
    "            pull_factor = 1.35\n",
    "            gripper_offset = -0.000 #move to center of gripper, not tip\n",
    "            quat = obj_poses[self.cuboid][3:7]\n",
    "            T = np.zeros((4,4))\n",
    "            T[3, 3] = 1\n",
    "            T[:3, :3] = R.from_quat(quat).as_matrix()\n",
    "            # angle = np.pi-0.00001\n",
    "            angle = np.pi\n",
    "            z180 = from_rotation_matrix(np.array([[np.cos(angle),-np.sin(angle), 0], [np.sin(angle), np.cos(angle), 0], [0, 0, 1]]))\n",
    "            # z180 = self.rotation_matrix('z',angle)\n",
    "            self.wptGraspOut[:3] = (T @ np.array([-self.cuboidX * 0.8, 0, gripper_offset, 0]).reshape((4,1)))[:3, 0] \\\n",
    "                               + obj_poses[self.cuboid][:3]\n",
    "            self.wptGraspOut[3:7] = as_float_array(z180 * quaternion(quat[0], quat[1], quat[2], quat[3]))\n",
    "\n",
    "            self.wptGraspIn[:3] = (T @ np.array([-self.cuboidX/2 + self.grasp_amount, 0, gripper_offset, 0]).reshape((4,1)))[:3, 0] \\\n",
    "                               + obj_poses[self.cuboid][:3]\n",
    "            self.wptGraspIn[3:7] = as_float_array(z180 * quaternion(quat[0], quat[1], quat[2], quat[3]))\n",
    "\n",
    "            self.wptPull[:3] = (T @ np.array([-self.cuboidX * pull_factor, 0, gripper_offset, 0]).reshape((4,1)))[:3, 0] \\\n",
    "                               + obj_poses[self.cuboid][:3]\n",
    "            self.wptPull[3:7] = as_float_array(z180 * quaternion(quat[0], quat[1], quat[2], quat[3]))\n",
    "            \n",
    "            self.state = State.SEARCH_WPTGRASPOUT\n",
    "    \n",
    "    def search_wptGraspOut(self, obs, obj_poses):\n",
    "        thresh = 0.05\n",
    "        # TODO: quaternion error\n",
    "        if np.linalg.norm(obs.gripper_pose[:3] - self.wptGraspOut[:3]) > thresh:\n",
    "            self.gripper = [True]\n",
    "            self.goal = self.wptGraspOut.tolist()\n",
    "        else:\n",
    "            self.state = State.SEARCH_WPTGRASPIN\n",
    "         \n",
    "    def search_wptGraspIn(self, obs, obj_poses):\n",
    "        thresh = 0.05\n",
    "        # TODO: quaternion error\n",
    "        if np.linalg.norm(obs.gripper_pose[:3] - self.wptGraspIn[:3]) > thresh:\n",
    "            self.goal = self.wptGraspIn.tolist()\n",
    "        else:\n",
    "            self.state = State.GRASP\n",
    "\n",
    "    def grasp(self):\n",
    "        self.gripper = [False]\n",
    "        self.state = State.PULL\n",
    "    \n",
    "    def pull(self, obs, obj_poses):\n",
    "        thresh = 0.05\n",
    "        # TODO: quaternion error\n",
    "        if np.linalg.norm(obs.gripper_pose[:3] - self.wptPull[:3]) > thresh:\n",
    "            self.goal = self.wptPull\n",
    "        else:\n",
    "            #calculate placement position\n",
    "            xs = [pose[0] for (i, pose) in obj_poses.items()]\n",
    "            ys = [pose[1] for (i, pose) in obj_poses.items()]\n",
    "            \n",
    "            quat = obs.gripper_pose[3:7]\n",
    "            T = np.zeros((4,4))\n",
    "            T[3, 3] = 1\n",
    "            T[:3, :3] = R.from_quat(quat).as_matrix()\n",
    "            # angle = np.pi-0.00001\n",
    "            angle = np.pi\n",
    "            # z180 = from_rotation_matrix(np.array([[np.cos(angle),-np.sin(angle), 0], [np.sin(angle), np.cos(angle), 0], [0, 0, 1]]))\n",
    "            dx,dy,_ = (T @ np.array([-self.cuboidX+self.place_amount, 0, 0, 0]).reshape((4,1)))[:3, 0]\n",
    "\n",
    "            x = np.mean(xs) + dx\n",
    "            y = np.mean(ys) + dy\n",
    "            maxHeight = [pose[2] for (i, pose) in obj_poses.items()]\n",
    "            maxHeight.sort(reverse=True)\n",
    "\n",
    "            safety_factor = 0.005    #margin above surface when placing\n",
    "            difference_factor = 0.8 #difference between height of blocks, accounting for noise\n",
    "            \n",
    "            #determine height of placing position\n",
    "            if (maxHeight[0]-maxHeight[2])<self.cuboidZ * difference_factor:\n",
    "                count = 3\n",
    "                z = np.mean(maxHeight[:3]) + self.cuboidZ +safety_factor    #up a level\n",
    "            elif (maxHeight[0]-maxHeight[1])<self.cuboidZ * difference_factor:\n",
    "                count = 2\n",
    "                z = np.mean(maxHeight[:2])+ safety_factor   #same level\n",
    "            else:\n",
    "                count = 1\n",
    "                z = maxHeight[0]+ safety_factor #same level\n",
    "            self.placePose = [x,y,z]\n",
    "\n",
    "            self.state = State.MOVE_UP\n",
    "\n",
    "    def move_up(self,obs,obj_poses):\n",
    "        thresh = 0.05\n",
    "        if np.linalg.norm(obs.gripper_pose[2] - (self.placePose[2]+ self.up_amount)) > thresh:\n",
    "            self.goal = self.wptPull\n",
    "            self.goal[2] = self.placePose[2] + self.up_amount\n",
    "        else:\n",
    "            self.state = State.SEARCH_PLACEMENT\n",
    "\n",
    "    def search_placement(self, obs, obj_poses):\n",
    "        thresh = 0.05\n",
    "        # TODO: quaternion error\n",
    "        goal = self.placePose + self.wptGraspOut[3:7].tolist()\n",
    "        if np.linalg.norm(obs.gripper_pose[:3] - goal[:3]) > thresh:\n",
    "            self.goal = goal\n",
    "        else:\n",
    "            self.state = State.PLACE\n",
    "\n",
    "    def place(self):\n",
    "        self.gripper = [True]\n",
    "        thresh = 0.05\n",
    "        \n",
    "        rdz = 0.03\n",
    "        # dx,dy,dz = (T @ np.array([-self.cuboidX+self.grasp_amount, 0, 0, 0]).reshape((4,1)))[:3, 0])\n",
    "        dx,dy,dz = self.transform(obs.gripper_pose, + self.align_out_amount,0, rdz)\n",
    "        self.wptAlignout = self.placePose + self.wptGraspOut[3:7].tolist()\n",
    "        self.wptAlignout[0] += dx\n",
    "        self.wptAlignout[1] += dy\n",
    "        self.wptAlignout[2] += dz\n",
    "        self.state = State.ALIGN_OUT\n",
    "    \n",
    "    def rotation_matrix(self,axis,angle):\n",
    "        if axis == 'x':\n",
    "            R = np.array([[1,0,0], [0, np.cos(angle), -np.sin(angle)], [0, np.sin(angle), np.cos(angle)]])\n",
    "        elif axis == 'y':\n",
    "            R = np.array([[np.cos(angle),0,np.sin(angle)], [0, 1, 0], [-np.sin(angle),0,np.cos(angle)]])\n",
    "        elif axis == 'z':\n",
    "            R = np.array([[np.cos(angle),-np.sin(angle), 0], [np.sin(angle), np.cos(angle), 0], [0, 0, 1]])\n",
    "        return from_rotation_matrix(R)\n",
    "\n",
    "    #transform relative to global frame \n",
    "    def transform(self,reference_object,dx,dy,dz):\n",
    "        quat = reference_object[3:7]\n",
    "        T = np.zeros((4,4))\n",
    "        T[3, 3] = 1\n",
    "        T[:3, :3] = R.from_quat(quat).as_matrix()\n",
    "        w_dx,w_dy,w_dz = (T @ np.array([dx,dy,dz, 0]).reshape((4,1)))[:3, 0]   #vector last element is 0. point is 1\n",
    "        return w_dx,w_dy,w_dz\n",
    "\n",
    "    def align_out(self):\n",
    "        thresh = 0.03\n",
    "        # rdx = -self.grasp_amount-0.2\n",
    "        # dx,dy,dz = (T @ np.array([-self.cuboidX+self.grasp_amount, 0, 0, 0]).reshape((4,1)))[:3, 0])\n",
    "        # dx,dy,dz = self.transform(obs.gripper_pose, rdx,0, 0)\n",
    "        # goal = self.placePose + self.wptGraspOut[3:7].tolist()\n",
    "        # goal[0] += dx\n",
    "        # goal[1] += dy\n",
    "        # goal[2] += dz\n",
    "        goal = self.wptAlignout\n",
    "        if np.linalg.norm(obs.gripper_pose[:3] - goal[:3]) > thresh:\n",
    "            self.goal = goal\n",
    "        else:\n",
    "            # rdx = (self.cuboidX / 2) - (self.grasp_amount + self.align_out_amount)\n",
    "            rdx = self.align_out_amount + self.align_in_amount\n",
    "            dx,dy,dz = self.transform(obs.gripper_pose, rdx,0, 0)\n",
    "            self.wptAlignout = self.placePose + self.wptGraspOut[3:7].tolist()\n",
    "            self.wptAlignout[0] += dx\n",
    "            self.wptAlignout[1] += dy\n",
    "            self.wptAlignout[2] += dz\n",
    "\n",
    "            self.state = State.ALIGN_IN\n",
    "            \n",
    "    def align_in(self):\n",
    "        self.gripper = [False]\n",
    "        thresh = 0.05\n",
    "        goal = self.wptAlignout\n",
    "        #adjust later push more\n",
    "        # rdx = self.grasp_amount*2+0.2+self.cuboidX/2\n",
    "        # rdz = -0.05\n",
    "        # dx,dy,dz = self.transform(obs.gripper_pose, rdx,0, rdz)\n",
    "        # goal = self.placePose + self.wptGraspOut[3:7].tolist()\n",
    "        if np.linalg.norm(obs.gripper_pose[:3] - (goal[:3])) > thresh:\n",
    "            # self.goal = self.placePose + self.wptGraspOut[3:7].tolist()\n",
    "            # goal[0] += dx\n",
    "            # goal[1] += dy\n",
    "            # goal[2] += dz\n",
    "            self.goal = goal\n",
    "        else:\n",
    "            self.state = State.MOVE_UP2\n",
    "\n",
    "    def move_up2(self,obs,obj_poses):\n",
    "        thresh = 0.05\n",
    "        goal = self.placePose + self.wptGraspOut[3:7].tolist()\n",
    "        goal[2] = self.placePose[2] + self.up_amount2\n",
    "        if np.linalg.norm(obs.gripper_pose[:3] - goal[:3]) > thresh:\n",
    "            print(\"inf IFFFFFFFF\")\n",
    "            self.goal = goal\n",
    "        else:\n",
    "            self.state = State.RESET\n",
    "\n",
    "def euler_to_quat(roll, pitch, yaw):\n",
    "    qx = np.sin(roll/2) * np.cos(pitch/2) * np.cos(yaw/2) - np.cos(roll/2) * np.sin(pitch/2) * np.sin(yaw/2)\n",
    "    qy = np.cos(roll/2) * np.sin(pitch/2) * np.cos(yaw/2) + np.sin(roll/2) * np.cos(pitch/2) * np.sin(yaw/2)\n",
    "    qz = np.cos(roll/2) * np.cos(pitch/2) * np.sin(yaw/2) - np.sin(roll/2) * np.sin(pitch/2) * np.cos(yaw/2)\n",
    "    qw = np.cos(roll/2) * np.cos(pitch/2) * np.cos(yaw/2) + np.sin(roll/2) * np.sin(pitch/2) * np.sin(yaw/2)\n",
    "    return np.array([qx, qy, qz, qw])\n",
    "\n",
    "def move(x,y,z,roll,pitch,yaw):\n",
    "    action = [x,y,z,0,0,0,0,True]\n",
    "    action[3:7] = euler_to_quat(roll, pitch, yaw)\n",
    "    obs,_,_ = task.step(action)\n",
    "    return obs\n",
    "    \n",
    "\n",
    "\n",
    "def knock_down():\n",
    "    #knock down\n",
    "    roll,pitch,yaw = np.pi,0,np.pi\n",
    "    obs = move(0.3,-0.4,0.9,roll,pitch,yaw)\n",
    "    obs = move(0.1,0.3,0.75,roll,pitch,yaw)\n",
    "    obs = move(0.2,-0.3,0.75,roll,pitch,yaw)\n",
    "    \n",
    "    #clear\n",
    "    roll,pitch,yaw = np.pi,0,np.pi*1/2\n",
    "    obs = move(0.2,-0.3,0.75,roll,pitch,yaw)\n",
    "    obs = move(0.2,0.1,0.75,roll,pitch,yaw)  \n",
    "    obs = move(0.1,0.1,0.75,roll,pitch,yaw)\n",
    "    obs = move(0.1,-0.1,0.75,roll,pitch,yaw)\n",
    "    obs = move(0.1,-0.1,1.0,roll,pitch,yaw)\n",
    "    return obs\n",
    "    \n",
    "\n",
    "class NoisyObjectPoseSensor:\n",
    "\n",
    "    def __init__(self, env):\n",
    "        self._env = env\n",
    "\n",
    "        self._pos_scale = [0.005] * 3\n",
    "        self._rot_scale = [0.01] * 3\n",
    "\n",
    "    def get_poses(self):\n",
    "        objs = self._env._scene._active_task.get_base().get_objects_in_tree(exclude_base=True, first_generation_only=False)\n",
    "        obj_poses = {}\n",
    "\n",
    "        for obj in objs:\n",
    "            name = obj.get_name()\n",
    "            pose = obj.get_pose()\n",
    "\n",
    "            pos, quat_wxyz = sample_normal_pose(self._pos_scale, self._rot_scale)\n",
    "            gt_quat_wxyz = quaternion(pose[6], pose[3], pose[4], pose[5])\n",
    "            perturbed_quat_wxyz = quat_wxyz * gt_quat_wxyz\n",
    "\n",
    "            pose[:3] += pos\n",
    "            pose[3:] = [perturbed_quat_wxyz.x, perturbed_quat_wxyz.y, perturbed_quat_wxyz.z, perturbed_quat_wxyz.w]\n",
    "\n",
    "            obj_poses[name] = pose\n",
    "\n",
    "        return obj_poses\n",
    "\n",
    "\n",
    "def find_cuboid_2_grasp(obs, obj_poses, visited):\n",
    "    cuboidX = 0.2067\n",
    "    while True:\n",
    "        cuboidID = np.random.choice(range(0,15))    \n",
    "        if cuboidID not in visited:\n",
    "            visited.append(cuboidID)\n",
    "            break\n",
    "    if cuboidID == 13:\n",
    "        cuboid = 'target_cuboid'\n",
    "    elif cuboidID == 14:\n",
    "        cuboid = 'Cuboid'\n",
    "    else:\n",
    "        cuboid = 'Cuboid' + str(cuboidID)\n",
    "    print(cuboid)\n",
    "    task._task.register_graspable_objects([Shape(cuboid)])\n",
    "\n",
    "    quat = obj_poses[cuboid][3:7]\n",
    "    wptPick = [0,0,0,0,0,0,0]\n",
    "    wptPick[:3] = obj_poses[cuboid][:3]\n",
    "    \n",
    "    \n",
    "    orientation = R.from_quat(quat).as_euler('xyz', degrees = False)\n",
    "    print(\"orientation\\n\",orientation*180/np.pi)\n",
    "    \n",
    "    orientation[0],orientation[1] = np.pi,0\n",
    "    new_quat = R.from_euler('xyz', [orientation], degrees = False).as_quat().squeeze()\n",
    "\n",
    "    wptPick[3:] = as_float_array(quaternion(new_quat[0], new_quat[1], new_quat[2], new_quat[3]))\n",
    "    action =  wptPick + [True]    \n",
    "    \n",
    "    move(wptPick[0],wptPick[1],wptPick[2]+0.1,orientation[0],orientation[1],orientation[2])\n",
    "    obs1 = move(wptPick[0],wptPick[1],wptPick[2],orientation[0],orientation[1],orientation[2])\n",
    "#     obs1,_,_ = task.step(action)\n",
    "    if obs1 == []:\n",
    "        if len(visited) == 15:\n",
    "            print('lalalalalalalalal')\n",
    "            env.shutdown()\n",
    "        return find_cuboid_2_grasp(obs,obj_poses, visited)\n",
    "    return obs1\n",
    "\n",
    "\n",
    "def grasp(obs):\n",
    "    action = obs.gripper_pose[:7].tolist() + [False]\n",
    "    obs,_,_ = task.step(action)\n",
    "    action[2] += 0.3\n",
    "    obs,_,_ = task.step(action)\n",
    "    return obs\n",
    "\n",
    "def moving_avg(obj_pose_sensor):\n",
    "    mov_avg = 300\n",
    "    obj_poses = obj_pose_sensor.get_poses()\n",
    "    for _ in range (mov_avg-1):\n",
    "        for key, item in obj_pose_sensor.get_poses().items():\n",
    "            obj_poses[key][:3] = [sum(i) for i in zip(obj_poses[key][:3], item[:3])] \n",
    "            # print(obj_poses)\n",
    "    for key, item in obj_poses.items():\n",
    "        obj_poses[key][:3] = [i / mov_avg for i in item[:3]] \n",
    "    return obj_poses"
   ]
  },
  {
   "cell_type": "code",
   "execution_count": 44,
   "metadata": {},
   "outputs": [
    {
     "data": {
      "text/plain": [
       "15.868337005545632"
      ]
     },
     "execution_count": 44,
     "metadata": {},
     "output_type": "execute_result"
    }
   ],
   "source": [
    "obj_poses = moving_avg(obj_pose_sensor)\n",
    "np.sum([v[2] for k,v in obj_poses.items()])"
   ]
  },
  {
   "cell_type": "raw",
   "metadata": {},
   "source": [
    "env.reset()"
   ]
  },
  {
   "cell_type": "code",
   "execution_count": 5,
   "metadata": {},
   "outputs": [
    {
     "name": "stdout",
     "output_type": "stream",
     "text": [
      "[<rlbench.backend.conditions.JengaBuildTallerCondition object at 0x7f6369d0f630>]\n"
     ]
    }
   ],
   "source": [
    "from rlbench.backend.conditions import JengaBuildTallerCondition\n",
    "obj_poses = moving_avg(obj_pose_sensor)\n",
    "task._task.register_success_conditions([JengaBuildTallerCondition(obj_poses)])\n",
    "print(task._task._success_conditions)"
   ]
  },
  {
   "cell_type": "code",
   "execution_count": 7,
   "metadata": {},
   "outputs": [
    {
     "data": {
      "text/plain": [
       "<rlbench.backend.observation.Observation at 0x7f3a4819eda0>"
      ]
     },
     "execution_count": 7,
     "metadata": {},
     "output_type": "execute_result"
    }
   ],
   "source": [
    "move(0,0,1,np.pi,0,np.pi*3/4)"
   ]
  },
  {
   "cell_type": "code",
   "execution_count": 2,
   "metadata": {},
   "outputs": [
    {
     "name": "stdout",
     "output_type": "stream",
     "text": [
      "Start~~~~~~~~~~~~~~~~~~~~~~~~~~~~~~~~~~~~~~~~~~~~~~~~~~~~~~~~~~~~~~```\n",
      "Finish env init~~~~~~~~~~~~~~~~~~~~~~~~~~~~~~~~~~~~~~~~~~~~~~~~~~~~~~~``\n",
      "[TL] Input  input_layer: [None, 170]\n"
     ]
    },
    {
     "name": "stderr",
     "output_type": "stream",
     "text": [
      "INFO:tensorlayer:Input  input_layer: [None, 170]\n"
     ]
    },
    {
     "name": "stdout",
     "output_type": "stream",
     "text": [
      "[TL] Dense  mlp_layer1: 64 relu\n"
     ]
    },
    {
     "name": "stderr",
     "output_type": "stream",
     "text": [
      "INFO:tensorlayer:Dense  mlp_layer1: 64 relu\n"
     ]
    },
    {
     "name": "stdout",
     "output_type": "stream",
     "text": [
      "[TL] Dense  mlp_layer2: 64 relu\n"
     ]
    },
    {
     "name": "stderr",
     "output_type": "stream",
     "text": [
      "INFO:tensorlayer:Dense  mlp_layer2: 64 relu\n"
     ]
    },
    {
     "name": "stdout",
     "output_type": "stream",
     "text": [
      "[TL] Dense  dense_1: 1 No Activation\n"
     ]
    },
    {
     "name": "stderr",
     "output_type": "stream",
     "text": [
      "INFO:tensorlayer:Dense  dense_1: 1 No Activation\n"
     ]
    },
    {
     "name": "stdout",
     "output_type": "stream",
     "text": [
      "[TL] Input  input_layer: (None, 170)\n"
     ]
    },
    {
     "name": "stderr",
     "output_type": "stream",
     "text": [
      "INFO:tensorlayer:Input  input_layer: (None, 170)\n"
     ]
    },
    {
     "name": "stdout",
     "output_type": "stream",
     "text": [
      "[TL] Dense  hidden_layer1: 64 relu\n"
     ]
    },
    {
     "name": "stderr",
     "output_type": "stream",
     "text": [
      "INFO:tensorlayer:Dense  hidden_layer1: 64 relu\n"
     ]
    },
    {
     "name": "stdout",
     "output_type": "stream",
     "text": [
      "[TL] Dense  hidden_layer2: 64 relu\n"
     ]
    },
    {
     "name": "stderr",
     "output_type": "stream",
     "text": [
      "INFO:tensorlayer:Dense  hidden_layer2: 64 relu\n"
     ]
    },
    {
     "name": "stdout",
     "output_type": "stream",
     "text": [
      "[TL] Dense  dense_2: 8 tanh\n"
     ]
    },
    {
     "name": "stderr",
     "output_type": "stream",
     "text": [
      "INFO:tensorlayer:Dense  dense_2: 8 tanh\n"
     ]
    }
   ],
   "source": [
    "print('Start~~~~~~~~~~~~~~~~~~~~~~~~~~~~~~~~~~~~~~~~~~~~~~~~~~~~~~~~~~~~~~```')\n",
    "action_mode = ActionMode(ArmActionMode.ABS_EE_POSE_PLAN)\n",
    "#env = Environment(action_mode, '', ObservationConfig(), False, frequency=5, static_positions=True)\n",
    "env = gym.make('play_jenga-state-v0')\n",
    "task = env.task\n",
    "# print(type(env))\n",
    "# print(type(task))\n",
    "# print(type(task._task))\n",
    "\n",
    "# task = env.get_task(PlayJenga) # available tasks: EmptyContainer, PlayJenga, PutGroceriesInCupboard, SetTheTable\n",
    "\n",
    "print('Finish env init~~~~~~~~~~~~~~~~~~~~~~~~~~~~~~~~~~~~~~~~~~~~~~~~~~~~~~~``')\n",
    "obj_pose_sensor = NoisyObjectPoseSensor(env.env)\n",
    "# obj_pose_sensor = NoisyObjectPoseSensor(env)\n",
    "descriptions, obs = task.reset()\n",
    "agent = Agent(obs, obj_pose_sensor.get_poses(),task)\n",
    "\n",
    "AlgName = 'PPO'\n",
    "EnvName = 'ReachTarget'\n",
    "EnvType = 'rlbench'\n",
    "\n",
    "alg_params, learn_params = call_default_params(env, EnvType, AlgName)\n",
    "# alg = PPO(method='clip', **alg_params) # specify 'clip' or 'penalty' method for PPO\n",
    "alg_params['method'] = 'clip'\n",
    "alg = eval(AlgName+'(**alg_params)')\n",
    "training_steps = 120\n",
    "iterations = 10"
   ]
  },
  {
   "cell_type": "code",
   "execution_count": 3,
   "metadata": {},
   "outputs": [
    {
     "name": "stdout",
     "output_type": "stream",
     "text": [
      "Training...  | Algorithm: PPO_CLIP  | Environment: play_jenga-state-v0\n"
     ]
    }
   ],
   "source": [
    "train_episodes=1\n",
    "max_steps=200 \n",
    "save_interval=10\n",
    "gamma=0.9\n",
    "batch_size=32\n",
    "a_update_steps=10\n",
    "c_update_steps=10\n",
    "EPS = 1e-8\n",
    "t0 = time.time()        \n",
    "print('Training...  | Algorithm: {}  | Environment: {}'.format(alg.name, env.spec.id))\n",
    "reward_buffer = []\n",
    "\n",
    "buffer_s, buffer_a, buffer_r = [], [], []\n",
    "ep_rs_sum = 0\n",
    "visited = []"
   ]
  },
  {
   "cell_type": "code",
   "execution_count": 4,
   "metadata": {},
   "outputs": [],
   "source": [
    "obj_poses = moving_avg(obj_pose_sensor)\n",
    "obs = knock_down()"
   ]
  },
  {
   "cell_type": "code",
   "execution_count": 67,
   "metadata": {},
   "outputs": [
    {
     "data": {
      "text/plain": [
       "(<rlbench.backend.observation.Observation at 0x7f6464294da0>, 0, 0)"
      ]
     },
     "execution_count": 67,
     "metadata": {},
     "output_type": "execute_result"
    }
   ],
   "source": [
    "task.step([0.2,0,1,1,0,0,0,False])"
   ]
  },
  {
   "cell_type": "code",
   "execution_count": null,
   "metadata": {
    "scrolled": true
   },
   "outputs": [],
   "source": [
    "obj_poses = moving_avg(obj_pose_sensor)\n",
    "obs = find_cuboid_2_grasp(obs, obj_poses, visited)\n",
    "obs = grasp(obs)\n",
    "\n",
    "\n",
    "# print(s)"
   ]
  },
  {
   "cell_type": "code",
   "execution_count": 85,
   "metadata": {},
   "outputs": [
    {
     "data": {
      "text/plain": [
       "<rlbench.backend.observation.Observation at 0x7f6399585f60>"
      ]
     },
     "execution_count": 85,
     "metadata": {},
     "output_type": "execute_result"
    }
   ],
   "source": [
    "move(0.1,0,1,np.pi,-np.pi*1/2,np.pi)"
   ]
  },
  {
   "cell_type": "code",
   "execution_count": 38,
   "metadata": {},
   "outputs": [
    {
     "data": {
      "text/plain": [
       "(<rlbench.backend.observation.Observation at 0x7f6399585208>, 0, 0)"
      ]
     },
     "execution_count": 38,
     "metadata": {},
     "output_type": "execute_result"
    }
   ],
   "source": [
    "task.step([-0.1,-0.1,0.77,0.41521338,0.35153383,-0.4334165,  0.7184511,   0.])"
   ]
  },
  {
   "cell_type": "code",
   "execution_count": null,
   "metadata": {},
   "outputs": [],
   "source": [
    "buffer_s, buffer_a, buffer_r = [], [], []\n",
    "ep_rs_sum = 0\n",
    "visited = []\n",
    "for t in range(max_steps):  # in one episode\n",
    "    print(t)\n",
    "    obj_poses = moving_avg(obj_pose_sensor)\n",
    "    obs = find_cuboid_2_grasp(obs, obj_poses, visited)\n",
    "    print(\"new obs\\n\",obs)\n",
    "    obs = grasp(obs)\n",
    "\n",
    "    s = env._extract_obs(obs)\n",
    "    a = alg.get_action(s)\n",
    "    s_, r, done, _ = env.step(a)\n",
    "    buffer_s.append(s)\n",
    "    buffer_a.append(a)\n",
    "    buffer_r.append(r)\n",
    "    s = s_\n",
    "    ep_rs_sum += r\n",
    "\n",
    "    # update ppo\n",
    "    if (t + 1) % batch_size == 0 or t == max_steps - 1 or done:\n",
    "        try:\n",
    "            v_s_ = alg.get_v(s_)\n",
    "        except:\n",
    "            v_s_ = alg.get_v(s_[np.newaxis, :])   # for raw-pixel input\n",
    "        discounted_r = []\n",
    "        for r in buffer_r[::-1]:\n",
    "            v_s_ = r + gamma * v_s_\n",
    "            discounted_r.append(v_s_)\n",
    "        discounted_r.reverse()\n",
    "        bs = buffer_s if len(buffer_s[0].shape)>1 else np.vstack(buffer_s) # no vstack for raw-pixel input\n",
    "        ba, br = np.vstack(buffer_a), np.array(discounted_r)[:, np.newaxis]\n",
    "        buffer_s, buffer_a, buffer_r = [], [], []\n",
    "        alg.update(bs, ba, br, a_update_steps, c_update_steps)"
   ]
  },
  {
   "cell_type": "code",
   "execution_count": 49,
   "metadata": {},
   "outputs": [
    {
     "name": "stdout",
     "output_type": "stream",
     "text": [
      "[ 0.1        -0.1         1.2         0.06839199 -0.6387774   0.07209644\n",
      "  0.762947    0.        ]\n"
     ]
    }
   ],
   "source": [
    "s = env._extract_obs(obs)\n",
    "a1 = alg.get_action(s)\n",
    "env.step(a1)\n",
    "print(a1)"
   ]
  },
  {
   "cell_type": "code",
   "execution_count": 59,
   "metadata": {},
   "outputs": [
    {
     "name": "stdout",
     "output_type": "stream",
     "text": [
      "[ 0.1        -0.1         1.2         0.06839199 -0.6387774   0.07209644\n",
      "  0.762947    1.        ]\n"
     ]
    }
   ],
   "source": [
    "a1[-1] = 1\n",
    "env.step(a1)\n",
    "print(a1)"
   ]
  },
  {
   "cell_type": "code",
   "execution_count": 10,
   "metadata": {},
   "outputs": [
    {
     "data": {
      "text/plain": [
       "array([ 1.00000000e+00,  1.00135803e-04, -3.67641449e-03,  1.09672546e-04,\n",
       "       -2.81333923e-03, -9.05990601e-05, -7.86781311e-04,  4.76837158e-05,\n",
       "        7.15613533e-06,  1.75228864e-01, -1.04573664e-05, -8.73399913e-01,\n",
       "       -3.92879156e-06,  1.22144556e+00,  7.85403132e-01, -2.47023571e-02,\n",
       "        2.37840214e+01, -5.17487824e-02, -1.61405659e+01, -1.46805853e-01,\n",
       "       -4.32517433e+00,  3.86382788e-02,  2.78593898e-01, -8.14388692e-03,\n",
       "        1.47169173e+00, -2.64077084e-06,  9.92692411e-01, -8.07799825e-06,\n",
       "        1.20671935e-01,  4.00007591e-02,  3.99996936e-02,  1.78431720e-03,\n",
       "       -4.34392685e-04,  9.81986545e-07,  1.78335456e-03,  4.34057409e-04,\n",
       "       -1.16229057e-06,  2.87074000e-01,  5.68734482e-02,  7.66666412e-01,\n",
       "       -1.41737473e-05, -9.48209981e-06,  9.23879623e-01,  3.82683128e-01,\n",
       "        2.38990724e-01,  8.79023969e-03,  7.66664684e-01, -1.47306382e-05,\n",
       "       -1.00148727e-05,  9.23879385e-01,  3.82683992e-01,  1.90200299e-01,\n",
       "       -4.00001444e-02,  7.66663074e-01, -1.50124542e-05, -8.97281916e-06,\n",
       "        9.23879385e-01,  3.82683694e-01,  1.91613555e-01,  5.47521859e-02,\n",
       "        7.99996495e-01, -1.77495822e-05,  7.26811231e-06,  9.23874617e-01,\n",
       "       -3.82695496e-01,  2.39696801e-01,  6.66868687e-03,  7.99997807e-01,\n",
       "       -1.57415834e-05,  1.87013507e-06,  9.23874617e-01, -3.82695258e-01,\n",
       "        2.87780195e-01, -4.14146408e-02,  7.99999118e-01, -1.52316179e-05,\n",
       "        1.41640101e-06,  9.23874140e-01, -3.82696450e-01,  2.87072629e-01,\n",
       "        5.68728447e-02,  8.33332777e-01, -1.42435510e-05, -8.42180634e-06,\n",
       "        9.23879385e-01,  3.82683694e-01,  2.38989115e-01,  8.78966972e-03,\n",
       "        8.33330750e-01, -1.51555723e-05, -1.08205459e-05,  9.23879385e-01,\n",
       "        3.82683992e-01,  1.90199018e-01, -4.00007665e-02,  8.33328903e-01,\n",
       "       -1.56665847e-05, -1.22009187e-05,  9.23878551e-01,  3.82685691e-01,\n",
       "        1.91612959e-01,  5.47524616e-02,  8.66662741e-01, -1.80376137e-05,\n",
       "        5.89903993e-06,  9.23874140e-01, -3.82696450e-01,  2.18483269e-01,\n",
       "       -1.45441256e-02,  8.66663098e-01, -1.80723655e-05,  5.50748518e-06,\n",
       "        9.23874617e-01, -3.82695496e-01,  2.87779033e-01, -4.14151885e-02,\n",
       "        8.66665244e-01, -1.51577542e-05, -4.27764007e-07,  9.23874974e-01,\n",
       "       -3.82694662e-01,  2.87075132e-01,  5.68765104e-02,  8.99999022e-01,\n",
       "       -1.40128577e-05, -9.30823990e-06,  9.23878431e-01,  3.82686347e-01,\n",
       "        2.38992169e-01,  8.79321992e-03,  8.99997115e-01, -1.41412474e-05,\n",
       "       -9.36316519e-06,  9.23878610e-01,  3.82685810e-01,  1.90201432e-01,\n",
       "       -3.99972685e-02,  8.99995148e-01, -1.46273887e-05, -1.00462594e-05,\n",
       "        9.23879802e-01,  3.82682949e-01,  1.59088910e-01, -7.39402995e-02,\n",
       "        8.70003104e-01,  2.70599306e-01,  6.53284669e-01,  6.53278410e-01,\n",
       "        2.70596713e-01,  2.40406185e-01,  7.37699121e-03,  7.59003043e-01,\n",
       "        0.00000000e+00,  0.00000000e+00,  9.23879623e-01,  3.82683396e-01,\n",
       "        3.32159102e-02, -1.99813336e-01,  8.70002985e-01,  2.70599306e-01,\n",
       "        6.53284669e-01,  6.53278410e-01,  2.70596713e-01,  1.00387245e-01,\n",
       "       -1.32642001e-01,  8.70002985e-01,  2.70599306e-01,  6.53284669e-01,\n",
       "        6.53278410e-01,  2.70596713e-01])"
      ]
     },
     "execution_count": 10,
     "metadata": {},
     "output_type": "execute_result"
    }
   ],
   "source": [
    "env.reset()"
   ]
  },
  {
   "cell_type": "code",
   "execution_count": null,
   "metadata": {},
   "outputs": [],
   "source": [
    "env.close()"
   ]
  },
  {
   "cell_type": "code",
   "execution_count": 60,
   "metadata": {},
   "outputs": [
    {
     "data": {
      "text/plain": [
       "array([ 1.00000000e+00, -3.81469727e-05,  2.47955322e-03,  4.29153442e-05,\n",
       "        2.49862671e-03, -1.19209290e-04,  3.71932983e-04,  4.76837158e-06,\n",
       "       -1.66535210e-06,  1.75567180e-01, -9.20623279e-07, -8.73072803e-01,\n",
       "       -1.65649781e-05,  1.22155285e+00,  7.85397649e-01, -2.15055216e-02,\n",
       "        2.37265263e+01, -5.03783450e-02, -1.61330166e+01, -1.48619980e-01,\n",
       "       -4.33114004e+00,  3.57231088e-02,  2.78623760e-01, -8.15534033e-03,\n",
       "        1.47167921e+00, -3.59444243e-06,  9.92692649e-01, -1.36547606e-05,\n",
       "        1.20670304e-01,  3.99996936e-02,  4.00001928e-02,  1.78210880e-03,\n",
       "       -4.34985763e-04,  1.07586379e-06,  1.78321893e-03,  4.35411930e-04,\n",
       "       -1.50054689e-06,  2.87073940e-01,  5.68731800e-02,  7.66666293e-01,\n",
       "       -1.45500599e-05, -9.63149887e-06,  9.23879802e-01,  3.82682920e-01,\n",
       "        2.38990679e-01,  8.79005343e-03,  7.66664565e-01, -1.48546105e-05,\n",
       "       -8.66490154e-06,  9.23879623e-01,  3.82683456e-01,  1.90200284e-01,\n",
       "       -4.00003754e-02,  7.66663074e-01, -1.39746699e-05, -8.91342643e-06,\n",
       "        9.23879564e-01,  3.82683486e-01,  1.91613540e-01,  5.47516868e-02,\n",
       "        7.99996376e-01, -1.75451059e-05,  6.23872074e-06,  9.23874080e-01,\n",
       "       -3.82696599e-01,  2.39696831e-01,  6.66865706e-03,  7.99997687e-01,\n",
       "       -1.65579768e-05,  3.26584336e-06,  9.23874080e-01, -3.82696599e-01,\n",
       "        2.87780136e-01, -4.14145365e-02,  7.99999058e-01, -1.58757830e-05,\n",
       "        2.66247434e-06,  9.23874915e-01, -3.82694751e-01,  2.87072361e-01,\n",
       "        5.68728894e-02,  8.33332658e-01, -1.60424715e-05, -1.27839003e-05,\n",
       "        9.23879623e-01,  3.82683456e-01,  2.38989279e-01,  8.78958032e-03,\n",
       "        8.33330750e-01, -1.55418820e-05, -1.20972600e-05,  9.23879504e-01,\n",
       "        3.82683635e-01,  1.90199137e-01, -4.00008075e-02,  8.33328843e-01,\n",
       "       -1.33053054e-05, -5.39910297e-06,  9.23879564e-01,  3.82683486e-01,\n",
       "        1.91612601e-01,  5.47520891e-02,  8.66662383e-01, -1.77972943e-05,\n",
       "        6.84130282e-06,  9.23874497e-01, -3.82695496e-01,  2.18483165e-01,\n",
       "       -1.45440940e-02,  8.66662860e-01, -1.87014248e-05,  7.50976551e-06,\n",
       "        9.23874617e-01, -3.82695287e-01,  2.87778825e-01, -4.14153188e-02,\n",
       "        8.66665125e-01, -1.40991651e-05, -3.52491725e-06,  9.23874497e-01,\n",
       "       -3.82695496e-01,  2.87075102e-01,  5.68768755e-02,  8.99998784e-01,\n",
       "       -1.42110212e-05, -9.25454697e-06,  9.23880219e-01,  3.82681906e-01,\n",
       "        2.38991484e-01,  8.79325718e-03,  8.99996877e-01, -1.40539696e-05,\n",
       "       -9.25373024e-06,  9.23879504e-01,  3.82683694e-01,  1.90200999e-01,\n",
       "       -3.99971716e-02,  8.99994850e-01, -1.43343059e-05, -9.35557182e-06,\n",
       "        9.23880279e-01,  3.82681757e-01,  1.59088910e-01, -7.39402995e-02,\n",
       "        8.70003104e-01,  2.70599306e-01,  6.53284669e-01,  6.53278410e-01,\n",
       "        2.70596713e-01,  2.40406185e-01,  7.37699121e-03,  7.59003043e-01,\n",
       "        0.00000000e+00,  0.00000000e+00,  9.23879623e-01,  3.82683396e-01,\n",
       "        3.32159102e-02, -1.99813336e-01,  8.70002985e-01,  2.70599306e-01,\n",
       "        6.53284669e-01,  6.53278410e-01,  2.70596713e-01,  1.00387245e-01,\n",
       "       -1.32642001e-01,  8.70002985e-01,  2.70599306e-01,  6.53284669e-01,\n",
       "        6.53278410e-01,  2.70596713e-01])"
      ]
     },
     "execution_count": 60,
     "metadata": {},
     "output_type": "execute_result"
    }
   ],
   "source": [
    "env.reset()"
   ]
  },
  {
   "cell_type": "code",
   "execution_count": 61,
   "metadata": {},
   "outputs": [],
   "source": [
    "obj_poses = moving_avg(obj_pose_sensor)"
   ]
  },
  {
   "cell_type": "code",
   "execution_count": 62,
   "metadata": {},
   "outputs": [
    {
     "name": "stdout",
     "output_type": "stream",
     "text": [
      "{'Cuboid': array([ 2.87294114e-01,  5.75367771e-02,  7.66521435e-01,  2.44084620e-03,\n",
      "       -3.41763370e-04, -9.24380204e-01, -3.81464638e-01]), 'Cuboid0': array([ 0.23914356,  0.0091232 ,  0.76691059,  0.00898003, -0.00376966,\n",
      "        0.92325422,  0.38406637]), 'Cuboid1': array([ 0.19021922, -0.03982628,  0.76632341,  0.00357629, -0.00806386,\n",
      "       -0.92343804, -0.38364629]), 'Cuboid2': array([ 1.91664597e-01,  5.46134797e-02,  8.00075957e-01,  3.92816128e-05,\n",
      "       -1.99276476e-03, -9.23697809e-01,  3.83116677e-01]), 'Cuboid3': array([ 0.23997302,  0.00654575,  0.80005102,  0.00388898,  0.00184424,\n",
      "       -0.92428264,  0.38168452]), 'Cuboid4': array([ 0.2876811 , -0.04103252,  0.8001542 ,  0.00462573, -0.00201653,\n",
      "        0.92390352, -0.38259242]), 'Cuboid5': array([ 2.87062857e-01,  5.69456048e-02,  8.33966187e-01, -2.38468694e-04,\n",
      "        2.84935444e-03, -9.24141333e-01, -3.82040321e-01]), 'Cuboid6': array([ 0.23921037,  0.00891264,  0.83338323,  0.00844688,  0.00867451,\n",
      "       -0.91928597, -0.39340414]), 'Cuboid7': array([ 0.1902557 , -0.04035985,  0.83360601,  0.00597132,  0.00687564,\n",
      "        0.92307633,  0.38450911]), 'Cuboid8': array([ 0.19146354,  0.0550372 ,  0.86651836,  0.00093032,  0.00143045,\n",
      "        0.924303  , -0.38165558]), 'target_cuboid': array([ 2.18429198e-01, -1.46838120e-02,  8.66746566e-01,  4.36412058e-03,\n",
      "        3.61617322e-04,  9.25650625e-01, -3.78353981e-01]), 'Cuboid9': array([ 0.28829935, -0.04164   ,  0.86692196,  0.0039414 ,  0.00527211,\n",
      "       -0.92292638,  0.38492011]), 'Cuboid10': array([ 0.28726021,  0.05654946,  0.89977504,  0.00405734,  0.00857288,\n",
      "       -0.92320207, -0.38419797]), 'Cuboid11': array([0.23853788, 0.00870135, 0.90033927, 0.00670105, 0.01074751,\n",
      "       0.9274632 , 0.37370008]), 'Cuboid12': array([ 1.89851585e-01, -3.96148677e-02,  9.00280186e-01,  6.76514537e-05,\n",
      "        1.71169908e-03,  9.23228210e-01,  3.84248402e-01]), 'waypoint1': array([ 0.15913275, -0.07408227,  0.87019104, -0.26446169, -0.65139597,\n",
      "       -0.65777281, -0.27033006]), 'original_detector': array([ 2.41029817e-01,  7.46608307e-03,  7.58727997e-01, -1.22146176e-04,\n",
      "        4.61718086e-03,  9.21503279e-01,  3.88343294e-01]), 'waypoint2': array([ 0.03303905, -0.19942988,  0.87037935,  0.27926167,  0.64475313,\n",
      "        0.65819797,  0.27033657]), 'waypoint0': array([ 0.10024281, -0.13286172,  0.87022339,  0.27709952,  0.65366492,\n",
      "        0.6469302 ,  0.27824351])}\n"
     ]
    }
   ],
   "source": [
    "print(obj_poses)"
   ]
  },
  {
   "cell_type": "code",
   "execution_count": null,
   "metadata": {},
   "outputs": [],
   "source": []
  }
 ],
 "metadata": {
  "kernelspec": {
   "display_name": "RLBench",
   "language": "python",
   "name": "rlbench"
  },
  "language_info": {
   "codemirror_mode": {
    "name": "ipython",
    "version": 3
   },
   "file_extension": ".py",
   "mimetype": "text/x-python",
   "name": "python",
   "nbconvert_exporter": "python",
   "pygments_lexer": "ipython3",
   "version": "3.6.10"
  }
 },
 "nbformat": 4,
 "nbformat_minor": 2
}
